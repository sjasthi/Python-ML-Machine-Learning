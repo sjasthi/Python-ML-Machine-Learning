{
  "cells": [
    {
      "cell_type": "markdown",
      "metadata": {
        "id": "aqaYYVqsMHBK"
      },
      "source": [
        "# Assignment 2 — Distance Metrics in Basic Python\n",
        "**Course:** Python ML (Learn and Help)\n",
        "\n",
        "### What to submit\n",
        "- A Google Colab notebook (.ipynb) with your implementations.\n",
        "- Do **not** use external libraries (no `numpy`, `math`, etc.). Use only core Python features.\n",
        "- Run all cells before submitting.\n",
        "\n",
        "### Learning objectives\n",
        "By the end, you should be able to:\n",
        "1. Explain and compute **Euclidean**, **Manhattan**, and **Hamming** distances.\n",
        "2. Implement these metrics using only basic Python.\n",
        "3. Validate your code with simple tests.\n",
        "\n",
        "---\n",
        "## 1) Brief overview\n",
        "**Euclidean distance** (\"as-the-crow-flies\") between two vectors $x$ and $y$ of equal length $n$:\n",
        "$$ d_{\\text{euclid}}(x,y) = \\sqrt{\\sum_{i=1}^{n} (x_i - y_i)^2} $$\n",
        "It measures straight-line distance in $n$-dimensional space.\n",
        "\n",
        "**Manhattan distance** (a.k.a. L1 or taxicab distance):\n",
        "$$ d_{\\text{manhattan}}(x,y) = \\sum_{i=1}^{n} |x_i - y_i| $$\n",
        "It measures the distance you'd travel on a grid.\n",
        "\n",
        "**Hamming distance** (defined for equal-length sequences, often strings or bit vectors):\n",
        "$$ d_{\\text{hamming}}(x,y) = \\sum_{i=1}^{n} [x_i \\neq y_i] $$\n",
        "It counts the number of positions where corresponding symbols differ.\n",
        "\n",
        "> **Important:** All three distances require the inputs to be of **equal length**.\n"
      ],
      "id": "aqaYYVqsMHBK"
    },
    {
      "cell_type": "markdown",
      "metadata": {
        "id": "oI0n5lcJMHBL"
      },
      "source": [
        "---\n",
        "## 2) Implementation — Fill in the functions\n",
        "Rules:\n",
        "- **No imports** (don't use `math`, `numpy`, etc.).\n",
        "- Support lists or tuples for Euclidean/Manhattan.\n",
        "- Hamming distance here should work for **strings** (e.g., `'abc'` vs `'axc'`).\n",
        "- Raise `ValueError` with a clear message if inputs are invalid.\n"
      ],
      "id": "oI0n5lcJMHBL"
    },
    {
      "cell_type": "code",
      "metadata": {
        "id": "Ibi5oDpMMHBL"
      },
      "source": [
        "# === YOUR IMPLEMENTATIONS HERE ===\n",
        "def euclidean_distance(x, y):\n",
        "    \"\"\"Return the Euclidean (L2) distance between numeric vectors x and y.\n",
        "    Requirements: x and y are sequences (list/tuple) of equal length and numeric.\n",
        "    Must not import external libraries.\n",
        "    \"\"\"\n",
        "    #TODO\n",
        "    pass\n",
        "\n",
        "def manhattan_distance(x, y):\n",
        "    \"\"\"Return the Manhattan (L1) distance between numeric vectors x and y.\n",
        "    Requirements: x and y are sequences (list/tuple) of equal length and numeric.\n",
        "    \"\"\"\n",
        "    #TODO\n",
        "\n",
        "def hamming_distance(s1, s2):\n",
        "    \"\"\"Return the Hamming distance between two equal-length strings s1 and s2.\n",
        "    Counts positions where the characters differ.\n",
        "    \"\"\"\n",
        "    #TODO\n",
        "\n",
        "print(\"Functions defined. You can now run the tests below.\")\n"
      ],
      "id": "Ibi5oDpMMHBL",
      "execution_count": null,
      "outputs": []
    },
    {
      "cell_type": "markdown",
      "metadata": {
        "id": "hjWyhaFfMHBM"
      },
      "source": [
        "---\n",
        "## 3) Tester code — Run these to validate your functions\n",
        "These are simple checks. You may add more tests of your own.\n"
      ],
      "id": "hjWyhaFfMHBM"
    },
    {
      "cell_type": "code",
      "metadata": {
        "id": "OKH1zrX9MHBM"
      },
      "source": [
        "# Basic sanity tests\n",
        "def approx_equal(a, b, tol=1e-9):\n",
        "    return (a - b if a >= b else b - a) <= tol\n",
        "\n",
        "# Euclidean\n",
        "assert approx_equal(euclidean_distance([0, 0], [3, 4]), 5.0)\n",
        "assert approx_equal(euclidean_distance([1, 2, 3], [1, 2, 3]), 0.0)\n",
        "assert approx_equal(euclidean_distance([2], [5]), 3.0)\n",
        "\n",
        "# Manhattan\n",
        "assert manhattan_distance([0, 0], [3, 4]) == 7\n",
        "assert manhattan_distance([1, 2, 3], [1, 2, 3]) == 0\n",
        "assert manhattan_distance([2], [5]) == 3\n",
        "\n",
        "# Hamming\n",
        "assert hamming_distance(\"abcde\", \"abcde\") == 0\n",
        "assert hamming_distance(\"abcde\", \"abXde\") == 1\n",
        "assert hamming_distance(\"1011101\", \"1001001\") == 2  # different at positions 2 and 4 (0-based index)\n",
        "\n",
        "print(\"All basic tests passed! ✅\")\n"
      ],
      "id": "OKH1zrX9MHBM",
      "execution_count": null,
      "outputs": []
    },
    {
      "cell_type": "markdown",
      "metadata": {
        "id": "wxhGAXLHMHBM"
      },
      "source": [
        "---\n",
        "## 4) Sample usage\n"
      ],
      "id": "wxhGAXLHMHBM"
    },
    {
      "cell_type": "code",
      "metadata": {
        "id": "QbmQ5d7HMHBM"
      },
      "source": [
        "x1 = [1, 2, 3]\n",
        "x2 = [4, 6, 3]\n",
        "print(\"Euclidean:\", euclidean_distance(x1, x2))\n",
        "print(\"Manhattan:\", manhattan_distance(x1, x2))\n",
        "print(\"Hamming  (strings):\", hamming_distance(\"kitten\", \"sitten\"))\n"
      ],
      "id": "QbmQ5d7HMHBM",
      "execution_count": null,
      "outputs": []
    },
    {
      "cell_type": "markdown",
      "metadata": {
        "id": "-HPAU5i6MHBM"
      },
      "source": [
        "---\n",
        "## 5) Edge cases to consider (for your own extra tests)\n",
        "- Zero-length vectors (empty lists) — should return `0.0` for Euclidean and `0` for Manhattan.\n",
        "- Negative numbers.\n",
        "- Floating-point values.\n",
        "- Invalid inputs (different lengths, non-numeric values for Euclidean/Manhattan, non-strings for Hamming).\n",
        "\n",
        "Add more tests in the cell above to increase your confidence.\n"
      ],
      "id": "-HPAU5i6MHBM"
    },
    {
      "cell_type": "markdown",
      "metadata": {
        "id": "vzWZheTaMHBN"
      },
      "source": [
        "---\n",
        "## 6) What to submit?\n",
        "Write your own code and explanations.\n",
        "\n",
        "When finished: **File → Save a copy in Drive** (if using Colab) → Download `.ipynb` → Submit.\n"
      ],
      "id": "vzWZheTaMHBN"
    }
  ],
  "metadata": {
    "colab": {
      "provenance": [],
      "toc_visible": true
    },
    "kernelspec": {
      "display_name": "Python 3",
      "language": "python",
      "name": "python3"
    },
    "language_info": {
      "name": "python",
      "version": "3.x"
    }
  },
  "nbformat": 4,
  "nbformat_minor": 5
}