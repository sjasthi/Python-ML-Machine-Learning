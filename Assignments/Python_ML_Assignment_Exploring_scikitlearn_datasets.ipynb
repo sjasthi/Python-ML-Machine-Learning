{
  "nbformat": 4,
  "nbformat_minor": 0,
  "metadata": {
    "colab": {
      "provenance": []
    },
    "kernelspec": {
      "name": "python3",
      "display_name": "Python 3"
    },
    "language_info": {
      "name": "python"
    }
  },
  "cells": [
    {
      "cell_type": "markdown",
      "source": [
        "# Python ML Assignment: Exploring Toy Datasets\n",
        "\n",
        "**Course:** Python ML for Middle School Students  \n",
        "**Assignment Points:** 25 points  \n",
        "\n",
        "\n",
        "---\n",
        "\n",
        "## 📋 Assignment Overview\n",
        "\n",
        "In this assignment, you will:\n",
        "1. Learn how to load scikit-learn toy datasets\n",
        "2. Convert them into pandas DataFrames\n",
        "3. Perform Exploratory Data Analysis (EDA)\n",
        "4. Answer questions about the data\n",
        "\n",
        "### 📚 Reference Material\n",
        "You should refer to the **Exploratory Data Analysis notebook**:  \n",
        "https://github.com/sjasthi/Python-DS-Data-Science/blob/main/pandas/2_pandas_Exploratory_Data_Analysis.ipynb\n",
        "\n",
        "---\n",
        "\n",
        "## 🎯 Learning Objectives\n",
        "\n",
        "By completing this assignment, you will be able to:\n",
        "- ✅ Load scikit-learn toy datasets\n",
        "- ✅ Convert sklearn datasets to pandas DataFrames\n",
        "- ✅ Use pandas methods for data exploration\n",
        "- ✅ Create visualizations to understand data\n",
        "- ✅ Draw conclusions from data analysis\n",
        "\n",
        "---"
      ],
      "metadata": {
        "id": "header"
      }
    },
    {
      "cell_type": "markdown",
      "source": [
        "## Part 1: Setup and Example (5 points)\n",
        "\n",
        "### Task 1.1: Import Required Libraries (1 point)"
      ],
      "metadata": {
        "id": "part1"
      }
    },
    {
      "cell_type": "code",
      "source": [
        "# TODO: Import the following libraries\n",
        "# - pandas as pd\n",
        "# - numpy as np\n",
        "# - matplotlib.pyplot as plt\n",
        "# - seaborn as sns\n",
        "# - datasets from sklearn\n",
        "\n",
        "# Your code here:\n",
        "\n",
        "\n",
        "\n",
        "# Set display options\n",
        "pd.set_option('display.max_columns', None)\n",
        "%matplotlib inline\n",
        "\n",
        "print(\"✓ Libraries imported successfully!\")"
      ],
      "metadata": {
        "id": "imports"
      },
      "execution_count": null,
      "outputs": []
    },
    {
      "cell_type": "markdown",
      "source": [
        "### Task 1.2: Example - Loading Iris Dataset (2 points)\n",
        "\n",
        "**I'll show you how to do this first, then you'll do it yourself!**"
      ],
      "metadata": {
        "id": "example"
      }
    },
    {
      "cell_type": "code",
      "source": [
        "# EXAMPLE: How to load a toy dataset and convert to DataFrame\n",
        "\n",
        "# Step 1: Load the dataset\n",
        "iris = datasets.load_iris()\n",
        "print(\"dataype of iris: \", type(iris))\n",
        "\n",
        "# Step 2: Understand the dataset structure\n",
        "print(\"📦 Dataset Components:\")\n",
        "print(f\"   - data: Features (measurements)\")\n",
        "print(f\"   - target: Labels (species)\")\n",
        "print(f\"   - feature_names: Column names for features\")\n",
        "print(f\"   - target_names: Names of species\")\n",
        "print(f\"   - DESCR: Dataset description\\n\")\n",
        "\n",
        "# Step 3: Create DataFrame from features\n",
        "df_iris = pd.DataFrame(data=iris.data, columns=iris.feature_names)\n",
        "print(\"dataype of df_iris: \", type(df_iris))\n",
        "\n",
        "# Step 4: Add the target column\n",
        "df_iris['species'] = iris.target\n",
        "\n",
        "# Step 5: Replace numeric targets with actual names\n",
        "df_iris['species_name'] = df_iris['species'].map({\n",
        "    0: iris.target_names[0],\n",
        "    1: iris.target_names[1],\n",
        "    2: iris.target_names[2]\n",
        "})\n",
        "\n",
        "print(\"✅ Iris Dataset loaded successfully!\")\n",
        "print(f\"\\nDataFrame shape: {df_iris.shape}\")\n",
        "print(f\"Columns: {list(df_iris.columns)}\")"
      ],
      "metadata": {
        "id": "example_load"
      },
      "execution_count": null,
      "outputs": []
    },
    {
      "cell_type": "code",
      "source": [
        "# Display the first few rows\n",
        "print(\"🔍 First 5 rows of Iris dataset:\\n\")\n",
        "display(df_iris.head())\n",
        "\n",
        "print(\"\\n📊 Basic Information:\")\n",
        "df_iris.info()"
      ],
      "metadata": {
        "id": "example_display"
      },
      "execution_count": null,
      "outputs": []
    },
    {
      "cell_type": "markdown",
      "source": [
        "### Task 1.3: Read the Dataset Description (2 points)\n",
        "\n",
        "Every toy dataset comes with a detailed description. Let's read it!"
      ],
      "metadata": {
        "id": "description"
      }
    },
    {
      "cell_type": "code",
      "source": [
        "# TODO: Print the dataset description\n",
        "# Hint: Use iris.DESCR\n",
        "\n",
        "# Your code here:\n",
        "print(iris.DESCR)"
      ],
      "metadata": {
        "id": "descr"
      },
      "execution_count": null,
      "outputs": []
    },
    {
      "cell_type": "markdown",
      "source": [
        "**Question 1.3:** After reading the description, answer these questions:\n",
        "\n",
        "1. How many samples (rows) are in the Iris dataset? **[Your answer]**\n",
        "2. How many features (measurements) are there? **[Your answer]**\n",
        "3. What are the three species of Iris flowers? **[Your answer]**\n",
        "4. What do the four features measure? **[Your answer]**\n",
        "\n",
        "---"
      ],
      "metadata": {
        "id": "q1"
      }
    },
    {
      "cell_type": "markdown",
      "source": [
        "## Part 2: Wine Dataset Exploration (10 points)\n",
        "\n",
        "Now it's your turn! You will load and explore the **Wine dataset**.\n",
        "\n",
        "### Task 2.1: Load the Wine Dataset (3 points)"
      ],
      "metadata": {
        "id": "part2"
      }
    },
    {
      "cell_type": "code",
      "source": [
        "# TODO: Complete the following steps\n",
        "\n",
        "# Step 1: Load the wine dataset\n",
        "# Hint: wine = datasets.load_wine()\n",
        "\n",
        "# Your code here:\n",
        "\n",
        "\n",
        "# Step 2: Create a DataFrame with the features\n",
        "# Hint: Use pd.DataFrame() with wine.data and wine.feature_names\n",
        "\n",
        "# Your code here:\n",
        "df_wine = None  # Replace with your code\n",
        "\n",
        "\n",
        "# Step 3: Add the target column\n",
        "# Hint: df_wine['target'] = wine.target\n",
        "\n",
        "# Your code here:\n",
        "\n",
        "\n",
        "# Step 4: Add target names\n",
        "# Hint: Map 0, 1, 2 to wine.target_names\n",
        "\n",
        "# Your code here:\n",
        "\n",
        "\n",
        "print(\"✅ Wine dataset loaded!\")\n",
        "print(f\"Shape: {df_wine.shape}\")"
      ],
      "metadata": {
        "id": "wine_load"
      },
      "execution_count": null,
      "outputs": []
    },
    {
      "cell_type": "markdown",
      "source": [
        "### Task 2.2: Basic Exploration (4 points)\n",
        "\n",
        "Use pandas methods to explore the Wine dataset."
      ],
      "metadata": {
        "id": "wine_explore"
      }
    },
    {
      "cell_type": "code",
      "source": [
        "# TODO: Display the first 10 rows\n",
        "# Your code here:\n",
        "\n"
      ],
      "metadata": {
        "id": "wine_head"
      },
      "execution_count": null,
      "outputs": []
    },
    {
      "cell_type": "code",
      "source": [
        "# TODO: Display the last 5 rows\n",
        "# Your code here:\n",
        "\n"
      ],
      "metadata": {
        "id": "wine_tail"
      },
      "execution_count": null,
      "outputs": []
    },
    {
      "cell_type": "code",
      "source": [
        "# TODO: Display random 5 rows\n",
        "# Hint: Use .sample()\n",
        "# Your code here:\n",
        "\n"
      ],
      "metadata": {
        "id": "wine_sample"
      },
      "execution_count": null,
      "outputs": []
    },
    {
      "cell_type": "code",
      "source": [
        "# TODO: Display basic information about the dataset\n",
        "# Hint: Use .info()\n",
        "# Your code here:\n",
        "\n"
      ],
      "metadata": {
        "id": "wine_info"
      },
      "execution_count": null,
      "outputs": []
    },
    {
      "cell_type": "code",
      "source": [
        "# TODO: Display statistical summary\n",
        "# Hint: Use .describe()\n",
        "# Your code here:\n",
        "\n"
      ],
      "metadata": {
        "id": "wine_describe"
      },
      "execution_count": null,
      "outputs": []
    },
    {
      "cell_type": "code",
      "source": [
        "# TODO: Check for missing values\n",
        "# Hint: Use .isna().sum()\n",
        "# Your code here:\n",
        "\n"
      ],
      "metadata": {
        "id": "wine_missing"
      },
      "execution_count": null,
      "outputs": []
    },
    {
      "cell_type": "markdown",
      "source": [
        "### Task 2.3: Answer Questions (3 points)\n",
        "\n",
        "**Question 2.3a:** How many wine samples are in the dataset? **[Your answer]**\n",
        "\n",
        "**Question 2.3b:** How many features (chemical measurements) are there? **[Your answer]**\n",
        "\n",
        "**Question 2.3c:** What is the average (mean) alcohol content? **[Your answer]**\n",
        "\n",
        "**Question 2.3d:** Are there any missing values in the dataset? **[Your answer]**\n",
        "\n",
        "**Question 2.3e:** What is the maximum value of 'proline'? **[Your answer]**\n",
        "\n",
        "---"
      ],
      "metadata": {
        "id": "wine_questions"
      }
    },
    {
      "cell_type": "markdown",
      "source": [
        "## Part 3: Breast Cancer Dataset Analysis (10 points)\n",
        "\n",
        "Now explore the **Breast Cancer** dataset on your own!\n",
        "\n",
        "### Task 3.1: Load and Prepare the Dataset (3 points)"
      ],
      "metadata": {
        "id": "part3"
      }
    },
    {
      "cell_type": "code",
      "source": [
        "# TODO: Load the breast cancer dataset\n",
        "# Create a DataFrame with feature names\n",
        "# Add target column (0 = malignant, 1 = benign)\n",
        "# Add target_name column with actual names\n",
        "\n",
        "# Your code here:\n",
        "\n",
        "\n",
        "\n",
        "\n",
        "print(\"✅ Breast Cancer dataset loaded!\")"
      ],
      "metadata": {
        "id": "cancer_load"
      },
      "execution_count": null,
      "outputs": []
    },
    {
      "cell_type": "markdown",
      "source": [
        "### Task 3.2: Comprehensive EDA (4 points)\n",
        "\n",
        "Perform a complete exploratory data analysis:"
      ],
      "metadata": {
        "id": "cancer_eda"
      }
    },
    {
      "cell_type": "code",
      "source": [
        "# TODO: Display dataset shape\n",
        "# Your code here:\n",
        "\n"
      ],
      "metadata": {
        "id": "cancer_shape"
      },
      "execution_count": null,
      "outputs": []
    },
    {
      "cell_type": "code",
      "source": [
        "# TODO: Display first 5 rows\n",
        "# Your code here:\n",
        "\n"
      ],
      "metadata": {
        "id": "cancer_head"
      },
      "execution_count": null,
      "outputs": []
    },
    {
      "cell_type": "code",
      "source": [
        "# TODO: Display column names\n",
        "# Hint: Use .columns\n",
        "# Your code here:\n",
        "\n"
      ],
      "metadata": {
        "id": "cancer_cols"
      },
      "execution_count": null,
      "outputs": []
    },
    {
      "cell_type": "code",
      "source": [
        "# TODO: Display data types of all columns\n",
        "# Hint: Use .dtypes\n",
        "# Your code here:\n",
        "\n"
      ],
      "metadata": {
        "id": "cancer_dtypes"
      },
      "execution_count": null,
      "outputs": []
    },
    {
      "cell_type": "code",
      "source": [
        "# TODO: Display statistical summary\n",
        "# Your code here:\n",
        "\n"
      ],
      "metadata": {
        "id": "cancer_desc"
      },
      "execution_count": null,
      "outputs": []
    },
    {
      "cell_type": "code",
      "source": [
        "# TODO: Count how many samples are in each class (malignant vs benign)\n",
        "# Hint: Use .value_counts() on the target_name column\n",
        "# Your code here:\n",
        "\n"
      ],
      "metadata": {
        "id": "cancer_counts"
      },
      "execution_count": null,
      "outputs": []
    },
    {
      "cell_type": "markdown",
      "source": [
        "### Task 3.3: Create Visualizations (3 points)"
      ],
      "metadata": {
        "id": "cancer_viz"
      }
    },
    {
      "cell_type": "code",
      "source": [
        "# TODO: Create a bar plot showing the count of each class\n",
        "# Hint: Use df['target_name'].value_counts().plot(kind='bar')\n",
        "\n",
        "# Your code here:\n",
        "\n",
        "\n",
        "\n",
        "plt.title('Distribution of Breast Cancer Classes')\n",
        "plt.xlabel('Class')\n",
        "plt.ylabel('Count')\n",
        "plt.show()"
      ],
      "metadata": {
        "id": "cancer_bar"
      },
      "execution_count": null,
      "outputs": []
    },
    {
      "cell_type": "code",
      "source": [
        "# TODO: Create a histogram of 'mean radius'\n",
        "# Hint: Use df['mean radius'].hist()\n",
        "\n",
        "# Your code here:\n",
        "\n",
        "\n",
        "\n",
        "plt.title('Distribution of Mean Radius')\n",
        "plt.xlabel('Mean Radius')\n",
        "plt.ylabel('Frequency')\n",
        "plt.show()"
      ],
      "metadata": {
        "id": "cancer_hist"
      },
      "execution_count": null,
      "outputs": []
    },
    {
      "cell_type": "code",
      "source": [
        "# TODO: Create a scatter plot of 'mean radius' vs 'mean texture'\n",
        "# Color the points by target (malignant vs benign)\n",
        "# Hint: Use plt.scatter() with c=df['target']\n",
        "\n",
        "# Your code here:\n",
        "\n",
        "\n",
        "\n",
        "plt.title('Mean Radius vs Mean Texture')\n",
        "plt.xlabel('Mean Radius')\n",
        "plt.ylabel('Mean Texture')\n",
        "plt.colorbar(label='Class (0=Malignant, 1=Benign)')\n",
        "plt.show()"
      ],
      "metadata": {
        "id": "cancer_scatter"
      },
      "execution_count": null,
      "outputs": []
    },
    {
      "cell_type": "markdown",
      "source": [
        "---\n",
        "\n",
        "## 📊 Final Questions and Reflection\n",
        "\n",
        "### Breast Cancer Dataset Questions:\n",
        "\n",
        "**Question 3.1:** How many total samples are in the breast cancer dataset? **[Your answer]**\n",
        "\n",
        "**Question 3.2:** How many features are there? **[Your answer]**\n",
        "\n",
        "**Question 3.3:** Which class has more samples - malignant or benign? **[Your answer]**\n",
        "\n",
        "**Question 3.4:** What is the mean value of 'mean radius'? **[Your answer]**\n",
        "\n",
        "**Question 3.5:** Looking at your scatter plot, can you see any pattern that might help distinguish between malignant and benign cases? Explain in 2-3 sentences.\n",
        "\n",
        "**[Your answer here]**\n",
        "\n",
        "---"
      ],
      "metadata": {
        "id": "final_questions"
      }
    },
    {
      "cell_type": "markdown",
      "source": [
        "---\n",
        "\n",
        "## 📝 Reflection (Required)\n",
        "\n",
        "**Question R.1:** What was the most interesting thing you learned from exploring these datasets?\n",
        "\n",
        "**[Your answer here]**\n",
        "\n",
        "**Question R.2:** Which dataset did you find most interesting and why?\n",
        "\n",
        "**[Your answer here]**\n",
        "\n",
        "**Question R.3:** How do you think machine learning could be used with the Breast Cancer dataset in real life?\n",
        "\n",
        "**[Your answer here]**\n",
        "\n",
        "---"
      ],
      "metadata": {
        "id": "reflection"
      }
    },
    {
      "cell_type": "markdown",
      "source": [
        "## 📤 Submission Instructions\n",
        "\n",
        "1. ✅ Make sure all code cells run without errors\n",
        "2. ✅ Answer all questions in the markdown cells\n",
        "3. ✅ Include your name at the top of the notebook\n",
        "4. ✅ Save your notebook as: `YourLastName_ML_ToyDatasets.ipynb`\n",
        "5. ✅ Submit through [instructor's preferred method]\n",
        "\n",
        "---\n",
        "\n",
        "## 📊 Grading Rubric\n",
        "\n",
        "| Section | Points | Description |\n",
        "|---------|--------|-------------|\n",
        "| Part 1: Setup & Example | 5 | Imports, understanding example, reading description |\n",
        "| Part 2: Wine Dataset | 10 | Loading, exploration, and questions |\n",
        "| Part 3: Breast Cancer | 10 | Loading, EDA, visualizations, questions |\n",
        "| **Total** | **25** | |\n",
        "\n",
        "### Grading Criteria:\n",
        "- **Code Quality:** Code runs without errors, proper use of pandas methods\n",
        "- **Completeness:** All tasks attempted and completed\n",
        "- **Understanding:** Correct answers to questions demonstrate understanding\n",
        "- **Visualizations:** Clear, properly labeled charts\n",
        "- **Reflection:** Thoughtful responses showing engagement with material\n",
        "\n",
        "---\n",
        "\n",
        "## 💡 Helpful Resources\n",
        "\n",
        "- **Pandas Documentation:** https://pandas.pydata.org/docs/\n",
        "- **Scikit-learn Toy Datasets:** https://scikit-learn.org/stable/datasets/toy_dataset.html\n",
        "- **Your EDA Reference:** https://github.com/sjasthi/Python-DS-Data-Science/blob/main/pandas/2_pandas_Exploratory_Data_Analysis.ipynb\n",
        "\n",
        "### Common Pandas Methods You'll Need:\n",
        "```python\n",
        "df.head()           # First 5 rows\n",
        "df.tail()           # Last 5 rows\n",
        "df.sample(n)        # Random n rows\n",
        "df.info()           # Data types and non-null counts\n",
        "df.describe()       # Statistical summary\n",
        "df.shape            # (rows, columns)\n",
        "df.columns          # Column names\n",
        "df.dtypes           # Data types\n",
        "df.isna().sum()     # Count missing values\n",
        "df['col'].value_counts()  # Count unique values\n",
        "```\n",
        "\n",
        "---\n",
        "\n",
        "**Good luck! Remember: Data exploration is like being a detective - you're looking for clues in the data! 🔍**"
      ],
      "metadata": {
        "id": "submission"
      }
    }
  ]
}
