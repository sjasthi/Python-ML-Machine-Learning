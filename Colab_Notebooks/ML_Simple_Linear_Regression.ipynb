{
  "nbformat": 4,
  "nbformat_minor": 0,
  "metadata": {
    "colab": {
      "provenance": []
    },
    "kernelspec": {
      "name": "python3",
      "display_name": "Python 3"
    },
    "language_info": {
      "name": "python"
    }
  },
  "cells": [
    {
      "cell_type": "markdown",
      "source": [
        "# Python Machine Learning: Simple Linear Regression\n",
        "\n",
        "**Course:** Python ML for Middle School Students  \n",
        "**Topic:** Simple Linear Regression with scikit-learn  \n",
        "**Website:** www.learnandhelp.com  \n",
        "**Instructor:** Siva.Jasthi@metrostate.edu\n",
        "\n",
        "---\n",
        "\n",
        "## What is Linear Regression?\n",
        "\n",
        "Linear Regression is a way to find the relationship between two things:\n",
        "- **Independent Variable (X):** The thing we can control (e.g., marketing budget)\n",
        "- **Dependent Variable (Y):** The thing we want to predict (e.g., sales)\n",
        "\n",
        "Think of it like this: If you spend more money on advertising, do you get more sales? Linear regression helps us find that pattern!\n",
        "\n",
        "### The Linear Regression Equation:\n",
        "```\n",
        "y = mx + b\n",
        "```\n",
        "Where:\n",
        "- **y** = predicted value (sales)\n",
        "- **m** = slope (how much sales change per dollar of marketing)\n",
        "- **x** = input value (marketing budget)\n",
        "- **b** = intercept (sales when marketing = 0)\n"
      ],
      "metadata": {
        "id": "il1Hk6onn5Nn"
      }
    },
    {
      "cell_type": "markdown",
      "source": [
        "---\n",
        "## Section 1: Understanding the Basics\n",
        "### Quick Example: How Linear Regression Works"
      ],
      "metadata": {
        "id": "basic_example"
      }
    },
    {
      "cell_type": "code",
      "source": [
        "# Import necessary libraries\n",
        "import numpy as np\n",
        "from sklearn.linear_model import LinearRegression\n",
        "\n",
        "# Create simple data: marketing budget (X) and resulting sales (Y)\n",
        "X = np.array([6, 16, 26, 36, 46, 56]).reshape((-1, 1))  # reshape makes it 2D\n",
        "y = np.array([4, 23, 10, 12, 22, 35])\n",
        "\n",
        "print(\"Marketing Budget (X):\")\n",
        "print(X.flatten())  # flatten makes it easier to read\n",
        "print(\"\\nSales (y):\")\n",
        "print(y)\n",
        "\n",
        "# Create and train the model\n",
        "model = LinearRegression()\n",
        "model.fit(X, y)\n",
        "\n",
        "# Get the results\n",
        "print(\"\\n\" + \"=\"*50)\n",
        "print(\"MODEL RESULTS\")\n",
        "print(\"=\"*50)\n",
        "\n",
        "# R² Score: How well the model fits (1.0 = perfect, 0 = terrible)\n",
        "r_squared = model.score(X, y)\n",
        "print(f'\\nR² Score (Coefficient of Determination): {r_squared:.4f}')\n",
        "print('  → This tells us how well our line fits the data')\n",
        "print('  → Closer to 1.0 = better fit')\n",
        "\n",
        "# Intercept: Where the line crosses the y-axis\n",
        "print(f'\\nIntercept (b): {model.intercept_:.2f}')\n",
        "print('  → This is the sales when marketing = 0')\n",
        "\n",
        "# Slope: How steep the line is\n",
        "print(f'\\nSlope (m): {model.coef_[0]:.2f}')\n",
        "print('  → For every $1 increase in marketing, sales go up by this amount')\n",
        "\n",
        "# Make predictions\n",
        "y_predicted = model.predict(X)\n",
        "print('\\nPredicted Sales:')\n",
        "print(np.round(y_predicted, 2))\n",
        "\n",
        "print(\"\\n\" + \"=\"*50)"
      ],
      "metadata": {
        "id": "kO265SD5DVKp"
      },
      "execution_count": null,
      "outputs": []
    },
    {
      "cell_type": "markdown",
      "source": [
        "---\n",
        "## Section 2: Working with Real Data\n",
        "### Loading and Exploring the Dataset\n",
        "\n",
        "Now let's work with a real dataset that shows the relationship between marketing spending and sales!"
      ],
      "metadata": {
        "id": "real_data_section"
      }
    },
    {
      "cell_type": "code",
      "execution_count": null,
      "metadata": {
        "id": "hmyYYiaXn0m5"
      },
      "outputs": [],
      "source": [
        "# Import all the libraries we'll need\n",
        "import pandas as pd\n",
        "import numpy as np\n",
        "import matplotlib.pyplot as plt\n",
        "import seaborn as sns\n",
        "from sklearn.linear_model import LinearRegression\n",
        "from sklearn.model_selection import train_test_split\n",
        "\n",
        "# This makes our plots appear in the notebook\n",
        "%matplotlib inline\n",
        "\n",
        "print(\"✓ All libraries imported successfully!\")"
      ]
    },
    {
      "cell_type": "code",
      "source": [
        "# Load the dataset from CSV file\n",
        "df = pd.read_csv('marketing_sales.csv')\n",
        "\n",
        "# You can find the data set here https://github.com/sjasthi/Python-DS-Data-Science/blob/main/datasets/marketing_sales.csv\n",
        "# Alternatively, you can load from Excel:\n",
        "# df = pd.read_excel('marketing_sales.xlsx')\n",
        "\n",
        "print(\"📊 Marketing and Sales Dataset Loaded!\")\n",
        "print(\"=\"*60)\n",
        "\n",
        "print(\"\\n🔍 First 5 rows:\")\n",
        "display(df.head())\n",
        "\n",
        "print(\"\\n🔍 Last 5 rows:\")\n",
        "display(df.tail())\n",
        "\n",
        "print(\"\\n🎲 Random 5 rows:\")\n",
        "display(df.sample(5))"
      ],
      "metadata": {
        "id": "uLyB26f6r1E3"
      },
      "execution_count": null,
      "outputs": []
    },
    {
      "cell_type": "markdown",
      "source": [
        "### Data Quality Check\n",
        "Before we build our model, we need to make sure our data is clean!"
      ],
      "metadata": {
        "id": "data_quality"
      }
    },
    {
      "cell_type": "code",
      "source": [
        "# Check for missing values\n",
        "print(\"🔎 Checking for Missing Values:\")\n",
        "print(df.isna().sum())\n",
        "\n",
        "if df.isna().sum().sum() == 0:\n",
        "    print(\"\\n✓ Great! No missing values found.\")\n",
        "else:\n",
        "    print(\"\\n⚠ Warning: Missing values detected!\")"
      ],
      "metadata": {
        "id": "f9nwN5XkVT7W"
      },
      "execution_count": null,
      "outputs": []
    },
    {
      "cell_type": "code",
      "source": [
        "# Get information about the dataset\n",
        "print(\"📋 Dataset Information:\")\n",
        "print(\"=\"*60)\n",
        "print(f'Number of rows and columns: {df.shape}')\n",
        "print(f'Total data points: {df.shape[0] * df.shape[1]}')\n",
        "\n",
        "print(\"\\n📊 Data Types:\")\n",
        "df.info()\n",
        "\n",
        "print(\"\\n📈 Statistical Summary:\")\n",
        "print(\"=\"*60)\n",
        "display(df.describe())"
      ],
      "metadata": {
        "id": "2XGPOgRcVpct"
      },
      "execution_count": null,
      "outputs": []
    },
    {
      "cell_type": "markdown",
      "source": [
        "---\n",
        "## Section 3: Visualizing the Data\n",
        "### Scatter Plot: Marketing vs Sales\n",
        "\n",
        "Let's create a scatter plot to see if there's a relationship between marketing and sales!"
      ],
      "metadata": {
        "id": "visualization_section"
      }
    },
    {
      "cell_type": "code",
      "source": [
        "# Create a scatter plot\n",
        "plt.figure(figsize=(10, 6))\n",
        "df.plot(x='marketing', y='sales', kind='scatter', color='blue', s=50, alpha=0.6)\n",
        "plt.title('Marketing Budget vs Sales', fontsize=16, fontweight='bold')\n",
        "plt.xlabel('Marketing Budget ($1000s)', fontsize=12)\n",
        "plt.ylabel('Sales ($1000s)', fontsize=12)\n",
        "plt.grid(True, alpha=0.3)\n",
        "plt.show()\n",
        "\n",
        "print(\"💡 Can you see a pattern? As marketing increases, what happens to sales?\")"
      ],
      "metadata": {
        "id": "Ao3KxiXv-2Xi"
      },
      "execution_count": null,
      "outputs": []
    },
    {
      "cell_type": "markdown",
      "source": [
        "### Correlation Analysis\n",
        "Correlation tells us how strongly two variables are related:\n",
        "\n",
        "- **+1:** Perfect positive relationship (both increase together)\n",
        "- **0:** No relationship\n",
        "- **-1:** Perfect negative relationship (one increases, other decreases)"
      ],
      "metadata": {
        "id": "correlation_section"
      }
    },
    {
      "cell_type": "code",
      "source": [
        "# Calculate correlation\n",
        "correlation = df.corr()\n",
        "\n",
        "print(\"🔢 Correlation Matrix:\")\n",
        "print(correlation)\n",
        "\n",
        "# Create a heatmap\n",
        "plt.figure(figsize=(8, 6))\n",
        "sns.heatmap(correlation, annot=True, cmap='YlGnBu', fmt='.3f', \n",
        "            square=True, linewidths=1, cbar_kws={\"shrink\": 0.8})\n",
        "plt.title('Correlation Heatmap', fontsize=14, fontweight='bold', pad=20)\n",
        "plt.show()\n",
        "\n",
        "print(f\"\\n💡 Marketing and Sales correlation: {correlation.loc['marketing', 'sales']:.3f}\")\n",
        "print(\"   → This shows a positive relationship!\")"
      ],
      "metadata": {
        "id": "rQyT7dCdr7FQ"
      },
      "execution_count": null,
      "outputs": []
    },
    {
      "cell_type": "markdown",
      "source": [
        "---\n",
        "## Section 4: Building the Linear Regression Model\n",
        "### Step 1: Prepare the Data"
      ],
      "metadata": {
        "id": "model_building"
      }
    },
    {
      "cell_type": "code",
      "source": [
        "# Separate features (X) and target (y)\n",
        "# Feature: What we use to make predictions (marketing budget)\n",
        "# Target: What we want to predict (sales)\n",
        "\n",
        "X = df[['marketing']]  # Double brackets keep it as DataFrame\n",
        "y = df['sales']        # Single bracket makes it a Series\n",
        "\n",
        "print(\"📦 Data Preparation Complete!\")\n",
        "print(\"=\"*60)\n",
        "print(f\"Feature (X) shape: {X.shape}\")\n",
        "print(f\"Feature (X) type: {type(X)}\")\n",
        "print(f\"\\nTarget (y) shape: {y.shape}\")\n",
        "print(f\"Target (y) type: {type(y)}\")\n",
        "\n",
        "print(\"\\n✓ We have 1 feature and 1 target variable\")\n",
        "print(\"✓ This is perfect for Simple Linear Regression!\")"
      ],
      "metadata": {
        "id": "rqPDJsoibrW5"
      },
      "execution_count": null,
      "outputs": []
    },
    {
      "cell_type": "markdown",
      "source": [
        "### Step 2: Split the Data\n",
        "\n",
        "We split our data into two parts:\n",
        "- **Training Set (75%):** Used to teach the model\n",
        "- **Testing Set (25%):** Used to check if the model learned correctly"
      ],
      "metadata": {
        "id": "train_test_split"
      }
    },
    {
      "cell_type": "code",
      "source": [
        "# Split the data: 75% for training, 25% for testing\n",
        "X_train, X_test, y_train, y_test = train_test_split(\n",
        "    X, y, \n",
        "    test_size=0.25,    # 25% for testing\n",
        "    random_state=42    # Makes results reproducible\n",
        ")\n",
        "\n",
        "print(\"✂️ Data Split Complete!\")\n",
        "print(\"=\"*60)\n",
        "print(f\"Training set size: {X_train.shape[0]} samples ({X_train.shape[0]/len(X)*100:.0f}%)\")\n",
        "print(f\"Testing set size: {X_test.shape[0]} samples ({X_test.shape[0]/len(X)*100:.0f}%)\")\n",
        "\n",
        "print(\"\\n📊 Data Shapes:\")\n",
        "print(f\"X_train: {X_train.shape} | y_train: {y_train.shape}\")\n",
        "print(f\"X_test:  {X_test.shape} | y_test:  {y_test.shape}\")"
      ],
      "metadata": {
        "id": "ASQlC3oigVn7"
      },
      "execution_count": null,
      "outputs": []
    },
    {
      "cell_type": "markdown",
      "source": [
        "### Step 3: Create and Train the Model"
      ],
      "metadata": {
        "id": "create_model"
      }
    },
    {
      "cell_type": "code",
      "source": [
        "# Create the Linear Regression model\n",
        "model = LinearRegression()\n",
        "\n",
        "print(\"🤖 Linear Regression Model Created!\")\n",
        "print(f\"Model type: {type(model)}\")\n",
        "print(f\"Model: {model}\")"
      ],
      "metadata": {
        "id": "CY7eCW2jjCOW"
      },
      "execution_count": null,
      "outputs": []
    },
    {
      "cell_type": "code",
      "source": [
        "# Train the model using our training data\n",
        "model.fit(X_train, y_train)\n",
        "\n",
        "print(\"🎓 Model Training Complete!\")\n",
        "print(\"\\n✓ The model has learned the pattern from the training data\")\n",
        "print(\"✓ Now it's ready to make predictions!\")"
      ],
      "metadata": {
        "id": "RCUt4AbIjUj4"
      },
      "execution_count": null,
      "outputs": []
    },
    {
      "cell_type": "markdown",
      "source": [
        "### Step 4: Examine the Model Results"
      ],
      "metadata": {
        "id": "model_results"
      }
    },
    {
      "cell_type": "code",
      "source": [
        "# Get the model parameters\n",
        "intercept = model.intercept_\n",
        "slope = model.coef_[0]\n",
        "r_squared = model.score(X_train, y_train)\n",
        "\n",
        "print(\"📊 MODEL PARAMETERS\")\n",
        "print(\"=\"*60)\n",
        "\n",
        "print(f\"\\n📐 Intercept (b): {intercept:.4f}\")\n",
        "print(\"   → This is where the line crosses the y-axis\")\n",
        "print(\"   → Predicted sales when marketing = $0\")\n",
        "\n",
        "print(f\"\\n📈 Slope (m): {slope:.4f}\")\n",
        "print(\"   → This shows the relationship strength\")\n",
        "print(f\"   → For every $1000 increase in marketing, sales go up by ${slope*1000:.2f}\")\n",
        "\n",
        "print(f\"\\n🎯 R² Score: {r_squared:.4f}\")\n",
        "print(f\"   → The model explains {r_squared*100:.2f}% of the variation in sales\")\n",
        "if r_squared > 0.7:\n",
        "    print(\"   → Excellent fit! 🌟\")\n",
        "elif r_squared > 0.5:\n",
        "    print(\"   → Good fit! 👍\")\n",
        "else:\n",
        "    print(\"   → Fair fit - could be better 📈\")\n",
        "\n",
        "print(f\"\\n📝 Equation: Sales = {slope:.4f} × Marketing + {intercept:.4f}\")"
      ],
      "metadata": {
        "id": "_2UKibT4FSds"
      },
      "execution_count": null,
      "outputs": []
    },
    {
      "cell_type": "markdown",
      "source": [
        "---\n",
        "## Section 5: Making Predictions\n",
        "### Predict on Test Data"
      ],
      "metadata": {
        "id": "predictions_section"
      }
    },
    {
      "cell_type": "code",
      "source": [
        "# Make predictions on the test set\n",
        "y_pred = model.predict(X_test)\n",
        "\n",
        "print(\"🔮 Predictions Made!\")\n",
        "print(\"=\"*60)\n",
        "print(f\"Number of predictions: {len(y_pred)}\")\n",
        "print(f\"Predictions type: {type(y_pred)}\")\n",
        "\n",
        "# Show some example predictions\n",
        "print(\"\\n📋 Sample Predictions:\")\n",
        "comparison_df = pd.DataFrame({\n",
        "    'Marketing': X_test.values.flatten()[:10],\n",
        "    'Actual Sales': y_test.values[:10],\n",
        "    'Predicted Sales': y_pred[:10],\n",
        "    'Difference': np.abs(y_test.values[:10] - y_pred[:10])\n",
        "})\n",
        "display(comparison_df.round(2))"
      ],
      "metadata": {
        "id": "-NxWpednkGsz"
      },
      "execution_count": null,
      "outputs": []
    },
    {
      "cell_type": "markdown",
      "source": [
        "---\n",
        "## Section 6: Visualizing the Results\n",
        "### Training Data with Regression Line"
      ],
      "metadata": {
        "id": "viz_results"
      }
    },
    {
      "cell_type": "code",
      "source": [
        "# Plot training data with regression line\n",
        "plt.figure(figsize=(10, 6))\n",
        "\n",
        "# Scatter plot of actual training data\n",
        "plt.scatter(X_train, y_train, color='blue', alpha=0.6, s=50, label='Actual Data')\n",
        "\n",
        "# Plot the regression line\n",
        "plt.plot(X_train, model.predict(X_train), color='red', linewidth=2, label='Best Fit Line')\n",
        "\n",
        "plt.xlabel('Marketing Budget ($1000s)', fontsize=12)\n",
        "plt.ylabel('Sales ($1000s)', fontsize=12)\n",
        "plt.title('Training Data: Marketing vs Sales with Regression Line', \n",
        "          fontsize=14, fontweight='bold')\n",
        "plt.legend()\n",
        "plt.grid(True, alpha=0.3)\n",
        "plt.show()\n",
        "\n",
        "print(\"💡 The red line shows our model's predictions!\")\n",
        "print(\"   The closer the blue points are to the line, the better our model!\")"
      ],
      "metadata": {
        "id": "IL_VuNGG_RcU"
      },
      "execution_count": null,
      "outputs": []
    },
    {
      "cell_type": "markdown",
      "source": [
        "### Testing Data with Regression Line"
      ],
      "metadata": {
        "id": "test_viz"
      }
    },
    {
      "cell_type": "code",
      "source": [
        "# Plot testing data with regression line\n",
        "plt.figure(figsize=(10, 6))\n",
        "\n",
        "# Scatter plot of actual test data\n",
        "plt.scatter(X_test, y_test, color='blue', alpha=0.6, s=50, label='Actual Data')\n",
        "\n",
        "# Plot the regression line\n",
        "plt.plot(X_test, model.predict(X_test), color='red', linewidth=2, label='Predictions')\n",
        "\n",
        "plt.xlabel('Marketing Budget ($1000s)', fontsize=12)\n",
        "plt.ylabel('Sales ($1000s)', fontsize=12)\n",
        "plt.title('Testing Data: Marketing vs Sales with Predictions', \n",
        "          fontsize=14, fontweight='bold')\n",
        "plt.legend()\n",
        "plt.grid(True, alpha=0.3)\n",
        "plt.show()\n",
        "\n",
        "print(\"💡 This shows how well our model works on NEW data it hasn't seen before!\")"
      ],
      "metadata": {
        "id": "BLwtyDYWAGw6"
      },
      "execution_count": null,
      "outputs": []
    },
    {
      "cell_type": "markdown",
      "source": [
        "### Actual vs Predicted Comparison"
      ],
      "metadata": {
        "id": "comparison_viz"
      }
    },
    {
      "cell_type": "code",
      "source": [
        "# Create index for plotting\n",
        "index = range(1, len(y_test) + 1)\n",
        "\n",
        "# Create the plot\n",
        "plt.figure(figsize=(12, 6))\n",
        "\n",
        "# Plot actual values\n",
        "plt.plot(index, y_test.values, color='blue', linewidth=2, \n",
        "         linestyle='-', marker='o', markersize=4, label='Actual Sales')\n",
        "\n",
        "# Plot predicted values\n",
        "plt.plot(index, y_pred, color='red', linewidth=2, \n",
        "         linestyle='-', marker='s', markersize=4, label='Predicted Sales')\n",
        "\n",
        "plt.xlabel('Test Sample Index', fontsize=12)\n",
        "plt.ylabel('Sales ($1000s)', fontsize=12)\n",
        "plt.title('Actual vs Predicted Sales Comparison', fontsize=14, fontweight='bold')\n",
        "plt.legend(loc='best')\n",
        "plt.grid(True, alpha=0.3)\n",
        "plt.tight_layout()\n",
        "plt.show()\n",
        "\n",
        "print(\"💡 When the red and blue lines are close together, our predictions are accurate!\")"
      ],
      "metadata": {
        "id": "t0i41SBvFwKe"
      },
      "execution_count": null,
      "outputs": []
    },
    {
      "cell_type": "markdown",
      "source": [
        "---\n",
        "## Section 7: Making New Predictions\n",
        "### Try Different Marketing Budgets!"
      ],
      "metadata": {
        "id": "new_predictions"
      }
    },
    {
      "cell_type": "code",
      "source": [
        "# Suppress warnings for cleaner output\n",
        "import warnings\n",
        "warnings.filterwarnings('ignore')\n",
        "\n",
        "print(\"🎯 Making Predictions for Different Marketing Budgets\")\n",
        "print(\"=\"*60)\n",
        "\n",
        "# Test different marketing budgets\n",
        "test_budgets = [50, 100, 150, 200, 250]\n",
        "\n",
        "print(\"\\n📊 Prediction Results:\")\n",
        "print(\"-\" * 60)\n",
        "print(f\"{'Marketing Budget':<20} {'Predicted Sales':<20} {'Expected Return'}\")\n",
        "print(\"-\" * 60)\n",
        "\n",
        "for budget in test_budgets:\n",
        "    predicted_sales = model.predict([[budget]])[0]\n",
        "    roi = (predicted_sales - budget) / budget * 100  # Return on Investment\n",
        "    \n",
        "    print(f\"${budget:>5,.0f}            {predicted_sales:>15.2f}         {roi:>8.1f}%\")\n",
        "\n",
        "print(\"-\" * 60)\n",
        "print(\"\\n💡 You can try your own marketing budget values below!\")"
      ],
      "metadata": {
        "id": "vOHj11GK9flK"
      },
      "execution_count": null,
      "outputs": []
    },
    {
      "cell_type": "code",
      "source": [
        "# Interactive prediction cell - Try your own values!\n",
        "print(\"🎮 Try Your Own Prediction!\")\n",
        "print(\"=\"*60)\n",
        "\n",
        "# Change this value to whatever you want!\n",
        "my_marketing_budget = 175  # <-- Change this number!\n",
        "\n",
        "# Make the prediction\n",
        "my_predicted_sales = model.predict([[my_marketing_budget]])[0]\n",
        "\n",
        "# Calculate some interesting metrics\n",
        "profit = my_predicted_sales - my_marketing_budget\n",
        "roi = (profit / my_marketing_budget) * 100\n",
        "\n",
        "print(f\"\\n💰 If you spend ${my_marketing_budget:,.2f} (thousands) on marketing:\")\n",
        "print(f\"   📈 Predicted Sales: ${my_predicted_sales:,.2f} (thousands)\")\n",
        "print(f\"   💵 Expected Profit: ${profit:,.2f} (thousands)\")\n",
        "print(f\"   📊 Return on Investment: {roi:.1f}%\")\n",
        "\n",
        "if roi > 50:\n",
        "    print(\"\\n🌟 Excellent ROI! This looks like a great investment!\")\n",
        "elif roi > 20:\n",
        "    print(\"\\n👍 Good ROI! This could be a solid investment.\")\n",
        "else:\n",
        "    print(\"\\n⚠️  Low ROI. You might want to reconsider this budget.\")"
      ],
      "metadata": {
        "id": "interactive_prediction"
      },
      "execution_count": null,
      "outputs": []
    },
    {
      "cell_type": "markdown",
      "source": [
        "---\n",
        "## Section 8: Model Evaluation\n",
        "### How Good is Our Model?\n",
        "\n",
        "Let's calculate some metrics to understand how well our model performs!"
      ],
      "metadata": {
        "id": "evaluation"
      }
    },
    {
      "cell_type": "code",
      "source": [
        "from sklearn.metrics import mean_squared_error, mean_absolute_error, r2_score\n",
        "\n",
        "# Calculate metrics\n",
        "mse = mean_squared_error(y_test, y_pred)\n",
        "rmse = np.sqrt(mse)\n",
        "mae = mean_absolute_error(y_test, y_pred)\n",
        "r2 = r2_score(y_test, y_pred)\n",
        "\n",
        "print(\"📊 MODEL EVALUATION METRICS\")\n",
        "print(\"=\"*60)\n",
        "\n",
        "print(f\"\\n✓ R² Score: {r2:.4f}\")\n",
        "print(f\"  → Explains {r2*100:.2f}% of the variance in sales\")\n",
        "\n",
        "print(f\"\\n✓ Mean Absolute Error (MAE): ${mae:.2f}k\")\n",
        "print(f\"  → On average, predictions are off by ${mae:.2f}k\")\n",
        "\n",
        "print(f\"\\n✓ Root Mean Squared Error (RMSE): ${rmse:.2f}k\")\n",
        "print(f\"  → Typical prediction error is ${rmse:.2f}k\")\n",
        "\n",
        "print(\"\\n\" + \"=\"*60)\n",
        "print(\"💡 Lower MAE and RMSE = Better predictions!\")\n",
        "print(\"💡 Higher R² = Better model fit!\")"
      ],
      "metadata": {
        "id": "model_eval"
      },
      "execution_count": null,
      "outputs": []
    },
    {
      "cell_type": "markdown",
      "source": [
        "---\n",
        "## 🎓 Summary and Key Takeaways\n",
        "\n",
        "### What We Learned:\n",
        "\n",
        "1. **Linear Regression** finds relationships between two variables\n",
        "2. **Training Data** teaches the model patterns\n",
        "3. **Testing Data** checks if the model learned correctly\n",
        "4. **R² Score** tells us how good our model is (closer to 1 is better)\n",
        "5. **Predictions** help us make data-driven decisions\n",
        "\n",
        "### Real-World Applications:\n",
        "\n",
        "- 📈 Predicting sales based on advertising\n",
        "- 🏠 Estimating house prices based on size\n",
        "- 🌡️ Forecasting temperature based on historical data\n",
        "- 📚 Predicting test scores based on study hours\n",
        "\n",
        "### Next Steps:\n",
        "\n",
        "1. Try different datasets\n",
        "2. Experiment with multiple variables (Multiple Linear Regression)\n",
        "3. Learn about other machine learning algorithms\n",
        "4. Build your own prediction projects!\n",
        "\n",
        "---\n",
        "**Great job! You've successfully built and evaluated a Linear Regression model! 🎉**"
      ],
      "metadata": {
        "id": "summary"
      }
    }
  ]
}

