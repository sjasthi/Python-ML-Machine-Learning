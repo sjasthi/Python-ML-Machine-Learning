{
  "nbformat": 4,
  "nbformat_minor": 0,
  "metadata": {
    "colab": {
      "provenance": [],
      "toc_visible": true
    },
    "kernelspec": {
      "name": "python3",
      "display_name": "Python 3"
    },
    "language_info": {
      "name": "python"
    }
  },
  "cells": [
    {
      "cell_type": "markdown",
      "metadata": {
        "id": "header"
      },
      "source": [
        "# Machine Learning Cost Function Assignment\n",
        "## Exploring RMSE (Root Mean Squared Error)\n",
        "\n",
        "**Total Points: 25**\n",
        "\n",
        "---\n",
        "\n",
        "### Learning Objectives\n",
        "By the end of this assignment, you will be able to:\n",
        "1. Understand what a cost function is in machine learning\n",
        "2. Calculate RMSE (Root Mean Squared Error) from scratch\n",
        "3. Compare multiple models using RMSE\n",
        "4. Determine which model performs best\n",
        "5. Implement mathematical formulas using basic Python\n",
        "\n",
        "---\n",
        "\n",
        "### Important Rules\n",
        "- **You may NOT use any libraries** (no numpy, pandas, sklearn, etc.)\n",
        "- **Use only basic Python** - loops, lists, math operations\n",
        "- You may use the built-in `math` module for square root only\n",
        "- Show all your work in the designated code cells\n",
        "\n",
        "---\n",
        "\n",
        "### Point Distribution\n",
        "- Part 1: Understanding RMSE (5 points)\n",
        "- Part 2: Implementing RMSE Calculation (8 points)\n",
        "- Part 3: Comparing Models (7 points)\n",
        "- Part 4: Analysis and Conclusion (5 points)"
      ]
    },
    {
      "cell_type": "markdown",
      "metadata": {
        "id": "background"
      },
      "source": [
        "---\n",
        "## Background: What is a Cost Function?\n",
        "\n",
        "In machine learning, a **cost function** (also called a loss function) measures how well a model's predictions match the actual values.\n",
        "\n",
        "Think of it like this:\n",
        "- Your model makes predictions\n",
        "- We compare those predictions to the real values\n",
        "- The cost function tells us \"how wrong\" the model is\n",
        "- **Lower cost = Better model**\n",
        "\n",
        "### What is RMSE?\n",
        "\n",
        "**RMSE (Root Mean Squared Error)** is one of the most common cost functions for regression problems (predicting continuous values like house prices).\n",
        "\n",
        "**Formula:**\n",
        "\n",
        "RMSE = √(Sum of (Actual - Predicted)² / Number of data points)\n",
        "\n",
        "Or more mathematically:\n",
        "\n",
        "RMSE = √(Σ(yᵢ - ŷᵢ)² / n)\n",
        "\n",
        "Where:\n",
        "- yᵢ = actual value\n",
        "- ŷᵢ = predicted value\n",
        "- n = number of data points\n",
        "- Σ = sum of all values\n",
        "\n",
        "### Why Square the Errors?\n",
        "1. Makes all errors positive (avoids negative errors canceling out positive ones)\n",
        "2. Penalizes large errors more heavily\n",
        "3. Common in statistics and optimization\n",
        "\n",
        "### Why Take the Square Root?\n",
        "- Returns the error to the same units as the original data\n",
        "- Makes it easier to interpret (if predicting house prices in thousands, RMSE is also in thousands)\n",
        "\n",
        "### Example:\n",
        "If RMSE = 50 for house prices (in thousands of dollars), the model's predictions are off by about $50,000 on average."
      ]
    },
    {
      "cell_type": "markdown",
      "metadata": {
        "id": "data"
      },
      "source": [
        "---\n",
        "## The Data: House Price Predictions\n",
        "\n",
        "We have 20 houses with their actual prices and predictions from 3 different machine learning models.\n",
        "\n",
        "**All prices are in thousands of dollars (e.g., 250 = $250,000)**\n",
        "\n",
        "| House # | Actual Price | Model A | Model B | Model C |\n",
        "|---------|--------------|---------|---------|----------|\n",
        "| 1       | 250          | 245     | 260     | 248      |\n",
        "| 2       | 300          | 305     | 310     | 295      |\n",
        "| 3       | 180          | 175     | 195     | 182      |\n",
        "| 4       | 420          | 415     | 400     | 425      |\n",
        "| 5       | 275          | 280     | 265     | 273      |\n",
        "| 6       | 350          | 345     | 370     | 348      |\n",
        "| 7       | 195          | 200     | 185     | 198      |\n",
        "| 8       | 410          | 405     | 430     | 408      |\n",
        "| 9       | 285          | 290     | 275     | 287      |\n",
        "| 10      | 320          | 315     | 340     | 318      |\n",
        "| 11      | 230          | 235     | 220     | 232      |\n",
        "| 12      | 380          | 375     | 395     | 378      |\n",
        "| 13      | 265          | 270     | 255     | 267      |\n",
        "| 14      | 295          | 300     | 285     | 293      |\n",
        "| 15      | 340          | 335     | 360     | 338      |\n",
        "| 16      | 215          | 220     | 205     | 217      |\n",
        "| 17      | 390          | 385     | 410     | 388      |\n",
        "| 18      | 270          | 275     | 260     | 272      |\n",
        "| 19      | 310          | 305     | 325     | 308      |\n",
        "| 20      | 360          | 355     | 380     | 358      |"
      ]
    },
    {
      "cell_type": "code",
      "execution_count": null,
      "metadata": {
        "id": "data_setup"
      },
      "outputs": [],
      "source": [
        "# Data provided for you - DO NOT MODIFY\n",
        "# All values are in thousands of dollars\n",
        "\n",
        "actual_prices = [250, 300, 180, 420, 275, 350, 195, 410, 285, 320, \n",
        "                 230, 380, 265, 295, 340, 215, 390, 270, 310, 360]\n",
        "\n",
        "model_a_predictions = [245, 305, 175, 415, 280, 345, 200, 405, 290, 315,\n",
        "                       235, 375, 270, 300, 335, 220, 385, 275, 305, 355]\n",
        "\n",
        "model_b_predictions = [260, 310, 195, 400, 265, 370, 185, 430, 275, 340,\n",
        "                       220, 395, 255, 285, 360, 205, 410, 260, 325, 380]\n",
        "\n",
        "model_c_predictions = [248, 295, 182, 425, 273, 348, 198, 408, 287, 318,\n",
        "                       232, 378, 267, 293, 338, 217, 388, 272, 308, 358]\n",
        "\n",
        "print(\"Data loaded successfully!\")\n",
        "print(f\"Number of houses: {len(actual_prices)}\")\n",
        "print(f\"First actual price: ${actual_prices[0]},000\")\n",
        "print(f\"First Model A prediction: ${model_a_predictions[0]},000\")"
      ]
    },
    {
      "cell_type": "markdown",
      "metadata": {
        "id": "part1"
      },
      "source": [
        "---\n",
        "## Part 1: Understanding RMSE (5 points)\n",
        "\n",
        "Before we calculate RMSE, let's make sure we understand the formula by working through a small example."
      ]
    },
    {
      "cell_type": "markdown",
      "metadata": {
        "id": "todo1_1"
      },
      "source": [
        "### TODO 1.1 (2 points)\n",
        "\n",
        "Given these simple values:\n",
        "- Actual: [10, 20, 30]\n",
        "- Predicted: [12, 18, 32]\n",
        "\n",
        "Calculate RMSE **by hand** (you can use a calculator) and write your answer in the markdown cell below.\n",
        "\n",
        "Show your work:\n",
        "1. Calculate each error: (Actual - Predicted)\n",
        "2. Square each error\n",
        "3. Find the average (mean) of squared errors\n",
        "4. Take the square root"
      ]
    },
    {
      "cell_type": "markdown",
      "metadata": {
        "id": "answer1_1"
      },
      "source": [
        "**Your Answer:**\n",
        "\n",
        "Step 1: Errors\n",
        "- (write your calculations here)\n",
        "\n",
        "Step 2: Squared Errors\n",
        "- (write your calculations here)\n",
        "\n",
        "Step 3: Mean of Squared Errors\n",
        "- (write your calculations here)\n",
        "\n",
        "Step 4: Square Root\n",
        "- RMSE = (write your final answer here)"
      ]
    },
    {
      "cell_type": "markdown",
      "metadata": {
        "id": "todo1_2"
      },
      "source": [
        "### TODO 1.2 (3 points)\n",
        "\n",
        "Now verify your hand calculation by writing Python code to calculate RMSE for the same small example.\n",
        "\n",
        "**Remember:** Use only basic Python! No libraries except `math.sqrt()`"
      ]
    },
    {
      "cell_type": "code",
      "execution_count": null,
      "metadata": {
        "id": "todo1_2_code"
      },
      "outputs": [],
      "source": [
        "import math  # Only for math.sqrt()\n",
        "\n",
        "# Simple example data\n",
        "actual = [10, 20, 30]\n",
        "predicted = [12, 18, 32]\n",
        "\n",
        "# TODO: Calculate RMSE step by step\n",
        "# Step 1: Calculate errors (actual - predicted)\n",
        "errors = []  # Your code here\n",
        "\n",
        "# Step 2: Square each error\n",
        "squared_errors = []  # Your code here\n",
        "\n",
        "# Step 3: Calculate mean of squared errors\n",
        "mean_squared_error = 0  # Your code here\n",
        "\n",
        "# Step 4: Take square root\n",
        "rmse = 0  # Your code here\n",
        "\n",
        "print(f\"RMSE = {rmse}\")"
      ]
    },
    {
      "cell_type": "markdown",
      "metadata": {
        "id": "part2"
      },
      "source": [
        "---\n",
        "## Part 2: Implementing RMSE Calculation (8 points)\n",
        "\n",
        "Now let's create a reusable function to calculate RMSE."
      ]
    },
    {
      "cell_type": "markdown",
      "metadata": {
        "id": "todo2_1"
      },
      "source": [
        "### TODO 2.1 (5 points)\n",
        "\n",
        "Create a function called `calculate_rmse()` that:\n",
        "- Takes two parameters: `actual` (list) and `predicted` (list)\n",
        "- Returns the RMSE value\n",
        "- Uses only basic Python (loops, lists, arithmetic)\n",
        "- You may use `math.sqrt()` for the square root\n",
        "\n",
        "**Hint:** Follow the same steps as TODO 1.2, but make it a function!"
      ]
    },
    {
      "cell_type": "code",
      "execution_count": null,
      "metadata": {
        "id": "todo2_1_code"
      },
      "outputs": [],
      "source": [
        "import math\n",
        "\n",
        "def calculate_rmse(actual, predicted):\n",
        "    \"\"\"\n",
        "    Calculate Root Mean Squared Error (RMSE)\n",
        "    \n",
        "    Parameters:\n",
        "    actual (list): List of actual values\n",
        "    predicted (list): List of predicted values\n",
        "    \n",
        "    Returns:\n",
        "    float: The RMSE value\n",
        "    \"\"\"\n",
        "    # TODO: Your code here\n",
        "    # Step 1: Calculate squared errors\n",
        "    \n",
        "    # Step 2: Calculate mean of squared errors\n",
        "    \n",
        "    # Step 3: Take square root and return\n",
        "    \n",
        "    pass  # Remove this when you add your code\n",
        "\n",
        "# Test your function with the simple example\n",
        "test_actual = [10, 20, 30]\n",
        "test_predicted = [12, 18, 32]\n",
        "test_rmse = calculate_rmse(test_actual, test_predicted)\n",
        "print(f\"Test RMSE: {test_rmse}\")\n",
        "print(\"If this matches your earlier calculation, your function works!\")"
      ]
    },
    {
      "cell_type": "markdown",
      "metadata": {
        "id": "todo2_2"
      },
      "source": [
        "### TODO 2.2 (3 points)\n",
        "\n",
        "Test your function with another example to make sure it works:\n",
        "- Actual: [100, 200, 300, 400]\n",
        "- Predicted: [110, 190, 310, 390]\n",
        "\n",
        "Calculate RMSE and explain what this number means in plain English."
      ]
    },
    {
      "cell_type": "code",
      "execution_count": null,
      "metadata": {
        "id": "todo2_2_code"
      },
      "outputs": [],
      "source": [
        "# TODO: Test your function\n",
        "test_actual_2 = [100, 200, 300, 400]\n",
        "test_predicted_2 = [110, 190, 310, 390]\n",
        "\n",
        "# Your code here:\n"
      ]
    },
    {
      "cell_type": "markdown",
      "metadata": {
        "id": "answer2_2"
      },
      "source": [
        "**Your Explanation:**\n",
        "\n",
        "The RMSE value means: (explain in plain English what this number tells us about the model's predictions)"
      ]
    },
    {
      "cell_type": "markdown",
      "metadata": {
        "id": "part3"
      },
      "source": [
        "---\n",
        "## Part 3: Comparing Models (7 points)\n",
        "\n",
        "Now we'll use RMSE to determine which of the three models (A, B, or C) is best at predicting house prices."
      ]
    },
    {
      "cell_type": "markdown",
      "metadata": {
        "id": "todo3_1"
      },
      "source": [
        "### TODO 3.1 (4 points)\n",
        "\n",
        "Calculate RMSE for all three models using the house price data provided at the beginning.\n",
        "\n",
        "Print the results in a clear, organized way."
      ]
    },
    {
      "cell_type": "code",
      "execution_count": null,
      "metadata": {
        "id": "todo3_1_code"
      },
      "outputs": [],
      "source": [
        "# TODO: Calculate RMSE for each model\n",
        "# The data lists are already defined above (actual_prices, model_a_predictions, etc.)\n",
        "\n",
        "# Calculate RMSE for Model A\n",
        "rmse_a = 0  # Your code here\n",
        "\n",
        "# Calculate RMSE for Model B\n",
        "rmse_b = 0  # Your code here\n",
        "\n",
        "# Calculate RMSE for Model C\n",
        "rmse_c = 0  # Your code here\n",
        "\n",
        "# Print results\n",
        "print(\"=\"*50)\n",
        "print(\"MODEL COMPARISON RESULTS\")\n",
        "print(\"=\"*50)\n",
        "# Your code here to print each model's RMSE\n"
      ]
    },
    {
      "cell_type": "markdown",
      "metadata": {
        "id": "todo3_2"
      },
      "source": [
        "### TODO 3.2 (3 points)\n",
        "\n",
        "Write code to determine which model has the lowest RMSE (best model) and which has the highest (worst model).\n",
        "\n",
        "Use basic Python - no libraries! You can use `min()` and `max()` functions if helpful."
      ]
    },
    {
      "cell_type": "code",
      "execution_count": null,
      "metadata": {
        "id": "todo3_2_code"
      },
      "outputs": [],
      "source": [
        "# TODO: Find the best and worst models\n",
        "\n",
        "# Create a dictionary or list to store models and their RMSE values\n",
        "# Your code here\n",
        "\n",
        "# Find best model (lowest RMSE)\n",
        "# Your code here\n",
        "\n",
        "# Find worst model (highest RMSE)\n",
        "# Your code here\n",
        "\n",
        "# Print results\n",
        "print(\"\\n\" + \"=\"*50)\n",
        "print(\"BEST MODEL: (print which model and its RMSE)\")\n",
        "print(\"WORST MODEL: (print which model and its RMSE)\")\n",
        "print(\"=\"*50)"
      ]
    },
    {
      "cell_type": "markdown",
      "metadata": {
        "id": "part4"
      },
      "source": [
        "---\n",
        "## Part 4: Analysis and Conclusion (5 points)"
      ]
    },
    {
      "cell_type": "markdown",
      "metadata": {
        "id": "todo4_1"
      },
      "source": [
        "### TODO 4.1 (3 points)\n",
        "\n",
        "Write a short analysis answering these questions:\n",
        "\n",
        "1. Which model performed best? Why do you think this is?\n",
        "2. What does the RMSE value of the best model mean in practical terms? (Remember, prices are in thousands)\n",
        "3. If you were a real estate company, would you use any of these models? Why or why not?"
      ]
    },
    {
      "cell_type": "markdown",
      "metadata": {
        "id": "answer4_1"
      },
      "source": [
        "**Your Analysis:**\n",
        "\n",
        "1. Best Model:\n",
        "   - (Your answer here)\n",
        "\n",
        "2. Practical Meaning:\n",
        "   - (Your answer here)\n",
        "\n",
        "3. Would You Use These Models:\n",
        "   - (Your answer here)"
      ]
    },
    {
      "cell_type": "markdown",
      "metadata": {
        "id": "todo4_2"
      },
      "source": [
        "### TODO 4.2 (2 points)\n",
        "\n",
        "Create a simple visualization of the results WITHOUT using any plotting libraries.\n",
        "\n",
        "Use basic Python to print a text-based bar chart showing the RMSE of each model.\n",
        "\n",
        "Example format:\n",
        "```\n",
        "Model A: ******* (7.5)\n",
        "Model B: *********** (11.2)\n",
        "Model C: ****** (6.8)\n",
        "```\n",
        "\n",
        "Where each * represents approximately 1 unit of RMSE."
      ]
    },
    {
      "cell_type": "code",
      "execution_count": null,
      "metadata": {
        "id": "todo4_2_code"
      },
      "outputs": [],
      "source": [
        "# TODO: Create a text-based bar chart\n",
        "# Hint: You can use string multiplication like \"*\" * 5 to get \"*****\"\n",
        "\n",
        "print(\"\\nRMSE COMPARISON (Text Bar Chart)\")\n",
        "print(\"=\"*50)\n",
        "\n",
        "# Your code here\n"
      ]
    },
    {
      "cell_type": "markdown",
      "metadata": {
        "id": "bonus"
      },
      "source": [
        "---\n",
        "## Bonus Challenge (Optional - No Extra Points, Just for Learning!)\n",
        "\n",
        "Try these additional challenges to deepen your understanding:\n",
        "\n",
        "1. Calculate the **Mean Absolute Error (MAE)** for each model\n",
        "   - Formula: MAE = Sum of |Actual - Predicted| / n\n",
        "   - Compare: Do the rankings change?\n",
        "\n",
        "2. Find the **maximum error** (worst single prediction) for each model\n",
        "\n",
        "3. Calculate what percentage of predictions were within $10,000 of the actual price for each model"
      ]
    },
    {
      "cell_type": "code",
      "execution_count": null,
      "metadata": {
        "id": "bonus_code"
      },
      "outputs": [],
      "source": [
        "# Optional bonus challenges - try if you want extra practice!\n",
        "# Your code here (optional)\n"
      ]
    },
    {
      "cell_type": "markdown",
      "metadata": {
        "id": "summary"
      },
      "source": [
        "---\n",
        "## Summary and Key Takeaways\n",
        "\n",
        "Congratulations! You've learned:\n",
        "\n",
        "1. **What a cost function is** - A way to measure how well a model performs\n",
        "2. **How to calculate RMSE** - Step by step, from scratch\n",
        "3. **How to compare models** - Lower RMSE = Better model\n",
        "4. **Why RMSE matters** - It tells us the average error in predictions\n",
        "5. **Basic Python implementation** - You can do complex calculations without libraries!\n",
        "\n",
        "### Key Concepts:\n",
        "\n",
        "- **RMSE formula**: √(Σ(actual - predicted)² / n)\n",
        "- **Lower is better**: A model with lower RMSE makes better predictions\n",
        "- **Same units**: RMSE is in the same units as your data (dollars, meters, etc.)\n",
        "- **Penalizes large errors**: Because we square the errors, big mistakes hurt more\n",
        "\n",
        "### Real-World Applications:\n",
        "\n",
        "RMSE is used in:\n",
        "- Real estate price prediction\n",
        "- Stock market forecasting\n",
        "- Weather prediction\n",
        "- Sales forecasting\n",
        "- Energy consumption prediction\n",
        "- Any regression problem in machine learning!\n",
        "\n",
        "---\n",
        "\n",
        "### Before Submitting:\n",
        "\n",
        "Make sure you've completed:\n",
        "- [ ] Part 1: Hand calculation and verification (5 points)\n",
        "- [ ] Part 2: RMSE function implementation (8 points)\n",
        "- [ ] Part 3: Model comparison (7 points)\n",
        "- [ ] Part 4: Analysis and visualization (5 points)\n",
        "- [ ] All cells run without errors\n",
        "- [ ] All markdown answers are filled in\n",
        "\n",
        "**Total: 25 points**\n",
        "\n",
        "Good luck!"
      ]
    }
  ]
}
